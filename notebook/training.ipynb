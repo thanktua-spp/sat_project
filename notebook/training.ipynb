{
 "cells": [
  {
   "cell_type": "code",
   "execution_count": 1,
   "id": "a30a5808",
   "metadata": {},
   "outputs": [],
   "source": [
    "from rfdetr import RFDETRNano\n",
    "from pathlib import Path\n"
   ]
  },
  {
   "cell_type": "code",
   "execution_count": 2,
   "id": "f0dff376",
   "metadata": {},
   "outputs": [],
   "source": [
    "DATA_DIR = Path.cwd().parent / \"dataset\" / \"xview_rfdetr\"\n",
    "train_dataset = DATA_DIR / \"train\""
   ]
  },
  {
   "cell_type": "code",
   "execution_count": 3,
   "id": "fb016d43",
   "metadata": {},
   "outputs": [
    {
     "name": "stdout",
     "output_type": "stream",
     "text": [
      "loading annotations into memory...\n",
      "Done (t=0.02s)\n",
      "creating index...\n",
      "index created!\n",
      "Categories: ['Aircraft Hangar', 'Facility', 'Oil Tanker', 'Damaged Building', 'Cement Mixer', 'Storage Tank', 'Maritime Vessel', 'Pylon', 'Shipping Container', 'Construction Site']\n"
     ]
    }
   ],
   "source": [
    "from pycocotools.coco import COCO\n",
    "\n",
    "# Load your annotation file (COCO JSON)\n",
    "annotation_path =  train_dataset / \"_annotations.coco.json\"\n",
    "coco = COCO(annotation_path)\n",
    "\n",
    "# Print category IDs and names\n",
    "cats = coco.loadCats(coco.getCatIds())\n",
    "print(\"Categories:\", [cat[\"name\"] for cat in cats])"
   ]
  },
  {
   "cell_type": "code",
   "execution_count": 4,
   "id": "7818a1a8",
   "metadata": {},
   "outputs": [],
   "source": [
    "# Extract all annotation IDs\n",
    "ann_ids = coco.getAnnIds()\n",
    "annotations = coco.loadAnns(ann_ids)\n",
    "\n",
    "# Check that max category_id is less than 10\n",
    "max_cat_id = max(ann['category_id'] for ann in annotations)\n",
    "assert max_cat_id < 10, f\"Found category_id={max_cat_id} ≥ 10!\""
   ]
  },
  {
   "cell_type": "code",
   "execution_count": 6,
   "id": "525b081d",
   "metadata": {},
   "outputs": [],
   "source": [
    "# model = RFDETRNano()\n",
    "# model.train(\n",
    "#     # dataset config\n",
    "#     dataset_dir=str(DATA_DIR),\n",
    "#     epochs=1,\n",
    "#     batch_size=4,\n",
    "#     grad_accum_steps=4,\n",
    "#     lr=1e-4,\n",
    "#     early_stopping=True,\n",
    "#     gradient_checkpointing=True,\n",
    "#     output_dir=\"xview_rfdetr/model10_checkpoints\",\n",
    "#     resume=str(\"/xview_rfdetr/model10_checkpoints/runsxview_rfdetr20250727_054755/checkpoint.pth\"),\n",
    "# )\n"
   ]
  },
  {
   "cell_type": "code",
   "execution_count": null,
   "id": "b5daeda9",
   "metadata": {},
   "outputs": [],
   "source": []
  }
 ],
 "metadata": {
  "kernelspec": {
   "display_name": "sat-project (3.10.12)",
   "language": "python",
   "name": "python3"
  },
  "language_info": {
   "codemirror_mode": {
    "name": "ipython",
    "version": 3
   },
   "file_extension": ".py",
   "mimetype": "text/x-python",
   "name": "python",
   "nbconvert_exporter": "python",
   "pygments_lexer": "ipython3",
   "version": "3.10.12"
  }
 },
 "nbformat": 4,
 "nbformat_minor": 5
}
